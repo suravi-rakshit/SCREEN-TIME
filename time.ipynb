{
 "cells": [
  {
   "cell_type": "code",
   "execution_count": 1,
   "id": "7c415e46-4b71-425f-8bd0-ce233aefa68a",
   "metadata": {},
   "outputs": [
    {
     "name": "stdout",
     "output_type": "stream",
     "text": [
      "        Date  Usage  Notifications  Times opened        App\n",
      "0 2022-08-26     38             70            49  Instagram\n",
      "1 2022-08-27     39             43            48  Instagram\n",
      "2 2022-08-28     64            231            55  Instagram\n",
      "3 2022-08-29     14             35            23  Instagram\n",
      "4 2022-08-30      3             19             5  Instagram\n"
     ]
    }
   ],
   "source": [
    "import pandas as pd\n",
    "data=pd.read_excel(\"time.xlsx\")\n",
    "df=pd.DataFrame(data)\n",
    "print(df.head())"
   ]
  },
  {
   "cell_type": "code",
   "execution_count": 3,
   "id": "deb23a1e-81a6-4a75-b195-d42df82c9e94",
   "metadata": {},
   "outputs": [
    {
     "data": {
      "text/plain": [
       "Date             0\n",
       "Usage            0\n",
       "Notifications    0\n",
       "Times opened     0\n",
       "App              0\n",
       "dtype: int64"
      ]
     },
     "execution_count": 3,
     "metadata": {},
     "output_type": "execute_result"
    }
   ],
   "source": [
    "data.isnull().sum()"
   ]
  },
  {
   "cell_type": "code",
   "execution_count": 5,
   "id": "d1a02fac-0c44-43a6-bdbf-d4e45bbd2be1",
   "metadata": {},
   "outputs": [
    {
     "data": {
      "text/html": [
       "<div>\n",
       "<style scoped>\n",
       "    .dataframe tbody tr th:only-of-type {\n",
       "        vertical-align: middle;\n",
       "    }\n",
       "\n",
       "    .dataframe tbody tr th {\n",
       "        vertical-align: top;\n",
       "    }\n",
       "\n",
       "    .dataframe thead th {\n",
       "        text-align: right;\n",
       "    }\n",
       "</style>\n",
       "<table border=\"1\" class=\"dataframe\">\n",
       "  <thead>\n",
       "    <tr style=\"text-align: right;\">\n",
       "      <th></th>\n",
       "      <th>Date</th>\n",
       "      <th>Usage</th>\n",
       "      <th>Notifications</th>\n",
       "      <th>Times opened</th>\n",
       "    </tr>\n",
       "  </thead>\n",
       "  <tbody>\n",
       "    <tr>\n",
       "      <th>count</th>\n",
       "      <td>54</td>\n",
       "      <td>54.000000</td>\n",
       "      <td>54.000000</td>\n",
       "      <td>54.000000</td>\n",
       "    </tr>\n",
       "    <tr>\n",
       "      <th>mean</th>\n",
       "      <td>2022-09-07 12:26:40</td>\n",
       "      <td>65.037037</td>\n",
       "      <td>117.703704</td>\n",
       "      <td>61.481481</td>\n",
       "    </tr>\n",
       "    <tr>\n",
       "      <th>min</th>\n",
       "      <td>2022-08-26 00:00:00</td>\n",
       "      <td>1.000000</td>\n",
       "      <td>8.000000</td>\n",
       "      <td>2.000000</td>\n",
       "    </tr>\n",
       "    <tr>\n",
       "      <th>25%</th>\n",
       "      <td>2022-09-01 00:00:00</td>\n",
       "      <td>17.500000</td>\n",
       "      <td>25.750000</td>\n",
       "      <td>23.500000</td>\n",
       "    </tr>\n",
       "    <tr>\n",
       "      <th>50%</th>\n",
       "      <td>2022-09-07 12:00:00</td>\n",
       "      <td>58.500000</td>\n",
       "      <td>99.000000</td>\n",
       "      <td>62.500000</td>\n",
       "    </tr>\n",
       "    <tr>\n",
       "      <th>75%</th>\n",
       "      <td>2022-09-14 00:00:00</td>\n",
       "      <td>90.500000</td>\n",
       "      <td>188.250000</td>\n",
       "      <td>90.000000</td>\n",
       "    </tr>\n",
       "    <tr>\n",
       "      <th>max</th>\n",
       "      <td>2022-09-21 00:00:00</td>\n",
       "      <td>244.000000</td>\n",
       "      <td>405.000000</td>\n",
       "      <td>192.000000</td>\n",
       "    </tr>\n",
       "    <tr>\n",
       "      <th>std</th>\n",
       "      <td>NaN</td>\n",
       "      <td>58.317272</td>\n",
       "      <td>97.017530</td>\n",
       "      <td>43.836635</td>\n",
       "    </tr>\n",
       "  </tbody>\n",
       "</table>\n",
       "</div>"
      ],
      "text/plain": [
       "                      Date       Usage  Notifications  Times opened\n",
       "count                   54   54.000000      54.000000     54.000000\n",
       "mean   2022-09-07 12:26:40   65.037037     117.703704     61.481481\n",
       "min    2022-08-26 00:00:00    1.000000       8.000000      2.000000\n",
       "25%    2022-09-01 00:00:00   17.500000      25.750000     23.500000\n",
       "50%    2022-09-07 12:00:00   58.500000      99.000000     62.500000\n",
       "75%    2022-09-14 00:00:00   90.500000     188.250000     90.000000\n",
       "max    2022-09-21 00:00:00  244.000000     405.000000    192.000000\n",
       "std                    NaN   58.317272      97.017530     43.836635"
      ]
     },
     "execution_count": 5,
     "metadata": {},
     "output_type": "execute_result"
    }
   ],
   "source": [
    "data.describe()"
   ]
  },
  {
   "cell_type": "code",
   "execution_count": 9,
   "id": "50df6a52-a0fc-4730-83e4-a81c2142c23d",
   "metadata": {},
   "outputs": [
    {
     "name": "stdout",
     "output_type": "stream",
     "text": [
      "        Date  Usage  Notifications  Times opened        App\n",
      "0 2022-08-26     38             70            49  Instagram\n",
      "1 2022-08-27     39             43            48  Instagram\n",
      "2 2022-08-28     64            231            55  Instagram\n",
      "3 2022-08-29     14             35            23  Instagram\n",
      "4 2022-08-30      3             19             5  Instagram\n",
      "Date\n",
      "2022-08-26    209\n",
      "2022-08-27    108\n",
      "2022-08-28    194\n",
      "2022-08-29     73\n",
      "2022-08-30    131\n",
      "2022-08-31    127\n",
      "2022-09-01     67\n",
      "2022-09-02     92\n",
      "2022-09-03     28\n",
      "2022-09-04     78\n",
      "2022-09-05    168\n",
      "2022-09-06    110\n",
      "2022-09-07    198\n",
      "2022-09-08    140\n",
      "2022-09-09    162\n",
      "2022-09-10    148\n",
      "2022-09-11    297\n",
      "2022-09-12    296\n",
      "2022-09-13     88\n",
      "2022-09-14     65\n",
      "2022-09-15     52\n",
      "2022-09-16     74\n",
      "2022-09-17    214\n",
      "2022-09-18    247\n",
      "2022-09-19     81\n",
      "2022-09-20     63\n",
      "2022-09-21      2\n",
      "Name: Usage, dtype: int64\n"
     ]
    },
    {
     "data": {
      "image/png": "[encoded data removed]",
      "text/plain": [
       "<Figure size 640x480 with 1 Axes>"
      ]
     },
     "metadata": {},
     "output_type": "display_data"
    }
   ],
   "source": [
    "import pandas as pd\n",
    "import matplotlib.pyplot as plt\n",
    "data=pd.read_excel(\"time.xlsx\")\n",
    "df=pd.DataFrame(data)\n",
    "print(df.head())\n",
    "grouped_by=df.groupby(\"Date\")[\"Usage\"].sum()\n",
    "print(grouped_by)\n",
    "colors=[\"red\",\"blue\"]\n",
    "plt.bar(grouped_by.index,grouped_by.values,color=colors)\n",
    "plt.xlabel(\"Date\",fontsize=20,)\n",
    "plt.ylabel(\"Usage\",fontsize=20)\n",
    "plt.show()"
   ]
  },
  {
   "cell_type": "code",
   "execution_count": 16,
   "id": "9f15831e-4478-4cb8-bf55-cab184949b38",
   "metadata": {},
   "outputs": [
    {
     "name": "stdout",
     "output_type": "stream",
     "text": [
      "    Date  Usage  Notifications  Times opened        App\n",
      "0  44799     38             70            49  Instagram\n",
      "1  44800     39             43            48  Instagram\n",
      "2  44801     64            231            55  Instagram\n",
      "3  44802     14             35            23  Instagram\n",
      "4  44803      3             19             5  Instagram\n",
      "Date\n",
      "44799    279\n",
      "44800    154\n",
      "44801    414\n",
      "44802    192\n",
      "44803    265\n",
      "44804    194\n",
      "44805    122\n",
      "44806    172\n",
      "44807     95\n",
      "44808     67\n",
      "44809    242\n",
      "44810    239\n",
      "44811    235\n",
      "44812    265\n",
      "44813    473\n",
      "44814    237\n",
      "44815    353\n",
      "44816    389\n",
      "44817    198\n",
      "44818    202\n",
      "44819    196\n",
      "44820    189\n",
      "44821    221\n",
      "44822    311\n",
      "44823    177\n",
      "44824    201\n",
      "44825    274\n",
      "Name: Notifications, dtype: int64\n"
     ]
    },
    {
     "data": {
      "image/png": "[encoded data removed]",
      "text/plain": [
       "<Figure size 640x480 with 1 Axes>"
      ]
     },
     "metadata": {},
     "output_type": "display_data"
    }
   ],
   "source": [
    "import pandas as pd\n",
    "import matplotlib.pyplot as plt\n",
    "data=pd.read_excel(\"time.xlsx\")\n",
    "df=pd.DataFrame(data)\n",
    "print(df.head())\n",
    "grouped_by=df.groupby(\"Date\")[\"Notifications\"].sum()\n",
    "print(grouped_by)\n",
    "colors=[\"red\",\"blue\"]\n",
    "plt.bar(grouped_by.index,grouped_by.values,color=colors)\n",
    "plt.xlabel(\"Date\",fontsize=20,)\n",
    "plt.ylabel(\"Notifications\",fontsize=20)\n",
    "plt.show()"
   ]
  },
  {
   "cell_type": "code",
   "execution_count": 19,
   "id": "45b931e4-3dc0-4562-b79c-c9086498c4df",
   "metadata": {},
   "outputs": [
    {
     "name": "stdout",
     "output_type": "stream",
     "text": [
      "    Date  Usage  Notifications  Times opened        App\n",
      "0  44799     38             70            49  Instagram\n",
      "1  44800     39             43            48  Instagram\n",
      "2  44801     64            231            55  Instagram\n",
      "3  44802     14             35            23  Instagram\n",
      "4  44803      3             19             5  Instagram\n",
      "Date\n",
      "44799    154\n",
      "44800    116\n",
      "44801    141\n",
      "44802     97\n",
      "44803     92\n",
      "44804     97\n",
      "44805    104\n",
      "44806    125\n",
      "44807     41\n",
      "44808     63\n",
      "44809    172\n",
      "44810    135\n",
      "44811    102\n",
      "44812    125\n",
      "44813    262\n",
      "44814    149\n",
      "44815    187\n",
      "44816    274\n",
      "44817    130\n",
      "44818     69\n",
      "44819     62\n",
      "44820     96\n",
      "44821    123\n",
      "44822    137\n",
      "44823    108\n",
      "44824     83\n",
      "44825     76\n",
      "Name: Times opened, dtype: int64\n"
     ]
    },
    {
     "data": {
      "image/png": "[encoded data removed]",
      "text/plain": [
       "<Figure size 640x480 with 1 Axes>"
      ]
     },
     "metadata": {},
     "output_type": "display_data"
    }
   ],
   "source": [
    "import pandas as pd\n",
    "import matplotlib.pyplot as plt\n",
    "data=pd.read_excel(\"time.xlsx\")\n",
    "df=pd.DataFrame(data)\n",
    "print(df.head())\n",
    "grouped_by=df.groupby(\"Date\")[\"Times opened\"].sum()\n",
    "print(grouped_by)\n",
    "colors=[\"red\",\"blue\"]\n",
    "plt.bar(grouped_by.index,grouped_by.values,color=colors)\n",
    "plt.xlabel(\"Date\",fontsize=20,)\n",
    "plt.ylabel(\"Times opened\",fontsize=20)\n",
    "plt.show()"
   ]
  },
  {
   "cell_type": "code",
   "execution_count": 21,
   "id": "075b193f-6d8d-49ae-aacb-3e8756fd0dc5",
   "metadata": {},
   "outputs": [
    {
     "name": "stdout",
     "output_type": "stream",
     "text": [
      "    Date  Usage  Notifications  Times opened        App\n",
      "0  44799     38             70            49  Instagram\n",
      "1  44800     39             43            48  Instagram\n",
      "2  44801     64            231            55  Instagram\n",
      "3  44802     14             35            23  Instagram\n",
      "4  44803      3             19             5  Instagram\n",
      "Date\n",
      "44799    120\n",
      "44800    108\n",
      "44801    194\n",
      "44802     73\n",
      "44803    131\n",
      "44804    127\n",
      "44805     67\n",
      "44806     92\n",
      "44807     28\n",
      "44808     78\n",
      "44809    168\n",
      "44810    110\n",
      "44811    198\n",
      "44812    140\n",
      "44813    162\n",
      "44814    148\n",
      "44815    297\n",
      "44816    296\n",
      "44817     88\n",
      "44818     65\n",
      "44819     52\n",
      "44820     74\n",
      "44821    214\n",
      "44822    247\n",
      "44823     81\n",
      "44824     63\n",
      "44825     91\n",
      "Name: Usage, dtype: int64\n"
     ]
    },
    {
     "data": {
      "image/png": "[encoded data removed]",
      "text/plain": [
       "<Figure size 640x480 with 1 Axes>"
      ]
     },
     "metadata": {},
     "output_type": "display_data"
    }
   ],
   "source": [
    "import pandas as pd\n",
    "import matplotlib.pyplot as plt\n",
    "data=pd.read_excel(\"time.xlsx\")\n",
    "df=pd.DataFrame(data)\n",
    "print(df.head())\n",
    "grouped_by=df.groupby(\"Date\")[\"Usage\"].sum()\n",
    "print(grouped_by)\n",
    "plt.scatter(grouped_by.index,grouped_by.values)\n",
    "plt.xlabel(\"Date\",fontsize=20,)\n",
    "plt.ylabel(\"Usage\",fontsize=20)\n",
    "plt.show()"
   ]
  },
  {
   "cell_type": "code",
   "execution_count": null,
   "id": "acb5f0bc-00cd-4417-af4d-0c27f2aec893",
   "metadata": {},
   "outputs": [],
   "source": []
  }
 ],
 "metadata": {
  "kernelspec": {
   "display_name": "Python 3 (ipykernel)",
   "language": "python",
   "name": "python3"
  },
  "language_info": {
   "codemirror_mode": {
    "name": "ipython",
    "version": 3
   },
   "file_extension": ".py",
   "mimetype": "text/x-python",
   "name": "python",
   "nbconvert_exporter": "python",
   "pygments_lexer": "ipython3",
   "version": "3.11.7"
  }
 },
 "nbformat": 4,
 "nbformat_minor": 5
}
